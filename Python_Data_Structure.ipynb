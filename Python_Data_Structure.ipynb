{
  "nbformat": 4,
  "nbformat_minor": 0,
  "metadata": {
    "colab": {
      "provenance": []
    },
    "kernelspec": {
      "name": "python3",
      "display_name": "Python 3"
    },
    "language_info": {
      "name": "python"
    }
  },
  "cells": [
    {
      "cell_type": "markdown",
      "source": [
        "# Data Types and Structures"
      ],
      "metadata": {
        "id": "TlSJbUNdkUH2"
      }
    },
    {
      "cell_type": "markdown",
      "source": [
        "1. What are data structures, and why are they important?\n",
        " - Data structures are specialized formats for organizing, storing, and accessing data in a computer, enabling efficient data management.\n",
        "\n",
        " What they are:\n",
        " Data structures are essentially ways to arrange and store data in a computer's memory so it can be used efficiently. They define how data elements are related and what operations can be performed on them.\n",
        " Why they are important:\n",
        " Efficiency: Choosing the right data structure can drastically improve the speed and efficiency of algorithms and programs.\n",
        " Organization: Data structures help to organize data in a way that is easy to understand and manipulate.\n",
        " Scalability: They allow programs to handle large amounts of data efficiently.\n",
        " Problem-solving: They provide a framework for solving complex problems by breaking them down into smaller, more manageable tasks.\n",
        " Coding interviews: A strong understanding of data structures is crucial for coding interviews and technical roles."
      ],
      "metadata": {
        "id": "MfSwRo5Qkk1E"
      }
    },
    {
      "cell_type": "markdown",
      "source": [
        "2.  Explain the difference between mutable and immutable data types with examples?\n",
        " - In programming, mutable data types allow their values to be modified after creation, while immutable data types cannot be changed once created.\n",
        "\n",
        " Mutable Data Types:\n",
        " Lists: Lists are ordered collections of items that can be changed. You can add, remove, or modify elements after the list is created, says Simplilearn.com.\n",
        "\n",
        " Example (Python):"
      ],
      "metadata": {
        "id": "NvJXOlZnlw9k"
      }
    },
    {
      "cell_type": "code",
      "source": [
        "        my_list =\n",
        "        my_list.append(4)  # Add an element\n",
        "        my_list = 0    # Modify an element\n",
        "        print(my_list)  # Output:"
      ],
      "metadata": {
        "id": "myNVGGL9mXXM"
      },
      "execution_count": null,
      "outputs": []
    },
    {
      "cell_type": "markdown",
      "source": [
        " Dictionaries: Dictionaries store data in key-value pairs, and their contents can be changed.\n",
        "\n",
        " Example (Python):"
      ],
      "metadata": {
        "id": "oBIncyUrmaSz"
      }
    },
    {
      "cell_type": "code",
      "source": [
        "        my_dict = {\"name\": \"Alice\", \"age\": 30}\n",
        "        my_dict[\"age\"] = 31    # Modify an existing value\n",
        "        my_dict[\"city\"] = \"Bangalore\" # Add a new key-value pair\n",
        "        print(my_dict)  # Output: {'name': 'Alice', 'age': 31, 'city': 'Bangalore'}"
      ],
      "metadata": {
        "id": "LeFFxXUgmzGQ"
      },
      "execution_count": null,
      "outputs": []
    },
    {
      "cell_type": "markdown",
      "source": [
        " Sets: Sets are unordered collections of unique items. Elements can be added or removed after the set is created, according to Dataquest.\n",
        "\n",
        " Example (Python):"
      ],
      "metadata": {
        "id": "EK1ytPLdm0_O"
      }
    },
    {
      "cell_type": "code",
      "source": [
        "        my_set = {1, 2, 3}\n",
        "        my_set.add(4)  # Add an element\n",
        "        my_set.remove(2)  # Remove an element\n",
        "        print(my_set)  # Output: {1, 3, 4}"
      ],
      "metadata": {
        "id": "FVJZEdLfm9n9"
      },
      "execution_count": null,
      "outputs": []
    },
    {
      "cell_type": "markdown",
      "source": [
        " Immutable Data Types:\n",
        "\n",
        " Strings: Strings are sequences of characters and cannot be modified after creation, as mentioned by Google for Developers. If you try to change a string, you'll get a new string with the modification.\n",
        "\n",
        " Example (Python):"
      ],
      "metadata": {
        "id": "KNfIHV4Pm_wj"
      }
    },
    {
      "cell_type": "code",
      "source": [
        "        my_string = \"hello\"\n",
        "        # my_string = \"j\"  # This will raise an error\n",
        "        new_string = my_string + \" world\"  # Creating a new string\n",
        "        print(new_string)  # Output: hello world"
      ],
      "metadata": {
        "id": "50dCOul5nKuy"
      },
      "execution_count": null,
      "outputs": []
    },
    {
      "cell_type": "markdown",
      "source": [
        " Tuples: Tuples are ordered collections of items, but unlike lists, they cannot be modified after creation, according to Simplilearn.com.\n",
        "\n",
        " Example (Python):"
      ],
      "metadata": {
        "id": "31QTvGrLnOJF"
      }
    },
    {
      "cell_type": "code",
      "source": [
        "        my_tuple = (1, 2, 3)\n",
        "        # my_tuple = 0  # This will raise an error\n",
        "        new_tuple = my_tuple + (4,)  # Creating a new tuple\n",
        "        print(new_tuple)  # Output: (1, 2, 3, 4)"
      ],
      "metadata": {
        "id": "4mk1omCmnVDO"
      },
      "execution_count": null,
      "outputs": []
    },
    {
      "cell_type": "markdown",
      "source": [
        " Numbers (int, float, complex): Numbers are fundamental data types that cannot be changed once created, as explained in the Python documentation.\n",
        "\n",
        " Example (Python):"
      ],
      "metadata": {
        "id": "BqfFVeGJnYD7"
      }
    },
    {
      "cell_type": "code",
      "source": [
        "        my_int = 5\n",
        "        # my_int = 6  # This creates a new integer, not modifies the old one\n",
        "        new_int = my_int + 1\n",
        "        print(new_int)  # Output: 6"
      ],
      "metadata": {
        "id": "57tJcovmneBu"
      },
      "execution_count": null,
      "outputs": []
    },
    {
      "cell_type": "markdown",
      "source": [
        "3. What are the main differences between lists and tuples in Python?\n",
        " - Lists and tuples are both ordered sequences in Python, but they have\n",
        "  key differences:\n",
        "\n",
        " Mutability:\n",
        "Lists are mutable, meaning their elements can be changed (added, removed, or modified) after creation. Tuples are immutable; once created, their elements cannot be changed.\n",
        "\n",
        "Syntax:\n",
        "Lists are defined using square brackets [], while tuples are defined using parentheses ().\n",
        "\n",
        "Use Cases:\n",
        "Lists are used for collections of items that may need to be modified, such as a list of tasks or a shopping cart. Tuples are used for collections of items that should not be changed, such as coordinates or database records.\n",
        "\n",
        "Performance:\n",
        "Tuples are generally faster and more memory-efficient than lists because of their immutability. Python can optimize tuples, leading to quicker access times.\n",
        "\n",
        "Methods:\n",
        "Lists have several built-in methods for modifying their contents (e.g., append(), insert(), remove()), while tuples have fewer methods due to their immutability.\n",
        "\n",
        "Dictionary Keys:\n",
        "Tuples can be used as keys in dictionaries because they are immutable, while lists cannot.\n"
      ],
      "metadata": {
        "id": "qwsVtSPenhDP"
      }
    },
    {
      "cell_type": "code",
      "source": [
        "# Example\n",
        "my_list = [1, 2, 3]\n",
        "my_tuple = (4, 5, 6)\n",
        "\n",
        "my_list.append(4)  # Valid, list is mutable\n",
        "# my_tuple.append(7)  # Invalid, tuple is immutable\n",
        "\n",
        "print(my_list)\n",
        "print(my_tuple)"
      ],
      "metadata": {
        "id": "wyEa2FuXoXvz"
      },
      "execution_count": null,
      "outputs": []
    },
    {
      "cell_type": "markdown",
      "source": [
        "4. Describe how dictionaries store data?\n",
        " - Dictionaries are used to store data values in key:value pairs. A dictionary is a collection which is ordered*, changeable and do not allow duplicates. As of Python version 3.7, dictionaries are ordered. In Python 3.6 and earlier, dictionaries are unordered."
      ],
      "metadata": {
        "id": "lzxuf7-6oaPz"
      }
    },
    {
      "cell_type": "markdown",
      "source": [
        "5. Why might you use a set instead of a list in Python?\n",
        " - Sets and lists serve different purposes in Python, with sets offering advantages in specific scenarios. Here's when using a set might be preferred:\n",
        "\n",
        "Ensuring Uniqueness:\n",
        "Sets, by definition, do not allow duplicate elements. If maintaining a collection of unique items is crucial, a set is the appropriate choice. Attempting to add a duplicate element to a set has no effect.\n",
        "\n",
        "Membership Testing:\n",
        "Sets are optimized for fast membership testing using hashing. Checking if an element exists in a set is significantly faster (O(1) on average) compared to lists (O(n)), especially for large collections.\n",
        "\n",
        "Mathematical Set Operations:\n",
        "Sets efficiently support mathematical operations like union, intersection, and difference. If your task involves these operations, sets provide a concise and performant way to implement them.\n",
        "\n",
        "Removing Duplicates:\n",
        "To eliminate duplicate elements from a list, converting it to a set is a common and efficient approach. The resulting set will contain only the unique elements from the original list.\n",
        "\n",
        "Order Irrelevance:\n",
        "If the order of elements is not important, a set can be more suitable than a list. Sets do not maintain insertion order, which can be an advantage in situations where order is irrelevant.\n",
        "In summary, choose a set when uniqueness, fast membership testing, set operations, duplicate removal, or order irrelevance are primary concerns. If maintaining the order of elements and allowing duplicates is necessary, a list would be more appropriate."
      ],
      "metadata": {
        "id": "CeO7Z63KpPIk"
      }
    },
    {
      "cell_type": "markdown",
      "source": [
        "6. What is a string in Python, and how is it different from a list?\n",
        " - A string is a sequence of characters between single or double quotes.\n",
        "\n",
        "  A list is a sequence of items, where each item could be anything (an integer, a float, a string, etc)"
      ],
      "metadata": {
        "id": "QEidPYuZp4Y0"
      }
    },
    {
      "cell_type": "markdown",
      "source": [
        "7.  How do tuples ensure data integrity in Python?\n",
        " - Tuples in Python ensure data integrity through their immutability. Once a tuple is created, its elements cannot be modified, added, or removed. This characteristic guarantees that the data stored within a tuple remains constant throughout its lifecycle, preventing accidental or unauthorized changes.\n",
        "\n",
        "Immutability makes tuples suitable for situations where data consistency is critical, such as storing database connection settings, representing fixed records, or using them as keys in dictionaries. Any attempt to modify a tuple will result in an error, reinforcing its integrity. While it's possible to create a new tuple with desired modifications, the original tuple remains unchanged, preserving the integrity of the initial data."
      ],
      "metadata": {
        "id": "-K7GLUuJqmjt"
      }
    },
    {
      "cell_type": "markdown",
      "source": [
        "8 .What is a hash table, and how does it relate to dictionaries in Python?\n",
        " - In Python, the Dictionary data types represent the implementation of hash tables. The Keys in the dictionary are hashable–they are generated by a hash function which generates a unique result for each unique value supplied to the hash function. Also, the order of data elements in a dictionary is not fixed"
      ],
      "metadata": {
        "id": "BdDUrOwgrRk6"
      }
    },
    {
      "cell_type": "markdown",
      "source": [
        "9. Can lists contain different data types in Python?\n",
        " - Yes, lists in Python can contain elements of different data types.\n",
        "\n",
        "  A single list can hold integers, strings, floats, booleans, or even other lists, tuples, or dictionaries. This flexibility is a key feature of Python lists."
      ],
      "metadata": {
        "id": "lnigJMgOsc2z"
      }
    },
    {
      "cell_type": "code",
      "source": [
        "my_list = [1, \"hello\", 3.14, True, [1, 2, 3]]\n",
        "print(my_list)  # Output: [1, \"hello\", 3.14, True, [1, 2, 3]]"
      ],
      "metadata": {
        "id": "wbI9adswuqG5"
      },
      "execution_count": null,
      "outputs": []
    },
    {
      "cell_type": "markdown",
      "source": [
        "10. Explain why strings are immutable in Python?\n",
        " - Strings are immutable in Python for several reasons:\n",
        "\n",
        "Efficiency:\n",
        "When multiple variables refer to the same string literal, Python only stores one copy of that string in memory. If strings were mutable, modifying the string through one variable would affect all other variables referencing it, which could lead to unexpected behavior and require more complex memory management.\n",
        "\n",
        "Thread Safety:\n",
        "Immutable strings are inherently thread-safe. Since their value cannot change after creation, there's no risk of race conditions or data corruption when accessed by multiple threads concurrently.\n",
        "\n",
        "Usability as Dictionary Keys:\n",
        "Dictionaries in Python require their keys to be hashable, and immutability is a prerequisite for hashability. If strings were mutable, their hash values could change, making them unsuitable as dictionary keys.\n",
        "\n",
        "Preventing Accidental Modification:\n",
        "Immutability ensures that a string's value remains constant throughout its lifetime. This prevents accidental modification of string data, which can be crucial for maintaining program correctness and data integrity.\n",
        "\n",
        "When a string appears to be modified, Python creates a new string object with the updated value, leaving the original string untouched. The variable is then reassigned to point to the new string. This behavior might seem less efficient, but it provides significant benefits in terms of code reliability and performance in many common scenarios."
      ],
      "metadata": {
        "id": "S_3j30-8uv83"
      }
    },
    {
      "cell_type": "markdown",
      "source": [
        "11. What advantages do dictionaries offer over lists for certain tasks?\n",
        " - So it is more efficient to use dictionaries for the searching of elements as it can be carried out in a much faster manner. Lists are used when it is important to maintain the order of the elements and dealing with data that may get changed in the future."
      ],
      "metadata": {
        "id": "hExUhw5PwPiy"
      }
    },
    {
      "cell_type": "markdown",
      "source": [
        "12. Describe a scenario where using a tuple would be preferable over a list?\n",
        " - Use a list if you need a mutable collection of items where you may need to add, remove, or change elements. Lists are more flexible and have more built-in methods, making them ideal for dynamic collections. Use a tuple if you need an immutable collection where the elements won't change after creation"
      ],
      "metadata": {
        "id": "RLq-GjQmykx-"
      }
    },
    {
      "cell_type": "markdown",
      "source": [
        "13. How do sets handle duplicate values in Python?\n",
        " - Sets in Python are designed to store only unique elements. When a user attempts to add a duplicate value to a set, it is automatically discarded, and the set remains unchanged. This behavior ensures that sets always contain distinct values, making them useful for tasks such as removing duplicates from a list or checking for membership."
      ],
      "metadata": {
        "id": "WEZvKT_ezEIA"
      }
    },
    {
      "cell_type": "code",
      "source": [
        "my_set = {1, 2, 2, 3, 4, 4, 5}\n",
        "print(my_set)\n",
        "# Expected output: {1, 2, 3, 4, 5}"
      ],
      "metadata": {
        "id": "umEX19YazuOy"
      },
      "execution_count": null,
      "outputs": []
    },
    {
      "cell_type": "markdown",
      "source": [
        "14.  How does the “in” keyword work differently for lists and dictionaries?\n",
        " - As mentioned above, the in operation for the dictionary tests on keys. The key of the dictionary is a unique value as well as the set, and the execution time is about the same as for sets. On the other hand, dictionary values can be duplicated like a list."
      ],
      "metadata": {
        "id": "eSlEtp8tzzXp"
      }
    },
    {
      "cell_type": "markdown",
      "source": [
        "15. Can you modify the elements of a tuple? Explain why or why not?\n",
        " - No, you cannot directly modify the elements of a tuple in Python. Tuples are immutable, meaning their contents cannot be changed after creation. This is a key difference between tuples and lists, which are mutable. If you need a data structure that allows modification, a list should be used instead.\n",
        "\n",
        "Explanation:\n",
        "\n",
        "Immutability:\n",
        "\n",
        "Tuples are designed to be immutable, which means once created, the elements within the tuple cannot be altered.\n",
        "\n",
        "Why Tuples are Immutable:\n",
        "\n",
        "Immutability offers several benefits, including increased efficiency and the ability to use tuples as keys in dictionaries (since dictionary keys must be immutable).\n",
        "\n",
        "Modifying a Tuple:\n",
        "\n",
        "Attempting to modify a tuple will raise a TypeError. For example, trying to assign a new value to a tuple element will result in an error.\n",
        "\n",
        "Using Lists:\n",
        "\n",
        "If you need to modify a sequence of values, lists should be used instead of tuples. Lists are mutable, allowing you to add, remove, or modify elements after they are created."
      ],
      "metadata": {
        "id": "NGXHJAdc0RgF"
      }
    },
    {
      "cell_type": "markdown",
      "source": [
        "16. What is a nested dictionary, and give an example of its use case?\n",
        " - A nested dictionary is a dictionary where the value of one or more keys is another dictionary. It's essentially a dictionary within a dictionary, allowing for more complex data structures and organization. A common use case is representing hierarchical data like an employee directory with each employee having their own dictionary of details.\n",
        "  \n",
        "Example:"
      ],
      "metadata": {
        "id": "eXcz8TmU2Li_"
      }
    },
    {
      "cell_type": "code",
      "source": [
        "# Nested dictionary representing employees in a company\n",
        "employees = {\n",
        "  \"department1\": {\n",
        "    \"emp1\": {\n",
        "      \"name\": \"Alice\",\n",
        "      \"title\": \"Software Engineer\",\n",
        "      \"salary\": 80000\n",
        "    },\n",
        "    \"emp2\": {\n",
        "      \"name\": \"Bob\",\n",
        "      \"title\": \"Project Manager\",\n",
        "      \"salary\": 100000\n",
        "    }\n",
        "  },\n",
        "  \"department2\": {\n",
        "    \"emp3\": {\n",
        "      \"name\": \"Charlie\",\n",
        "      \"title\": \"Data Scientist\",\n",
        "      \"salary\": 90000\n",
        "    }\n",
        "  }\n",
        "}\n",
        "\n",
        "# Accessing data within the nested dictionary\n",
        "print(employees[\"department1\"][\"emp1\"][\"name\"])  # Output: Alice\n",
        "print(employees[\"department2\"][\"emp3\"][\"title\"])  # Output: Data Scientist"
      ],
      "metadata": {
        "id": "wiQclUP129Gl"
      },
      "execution_count": null,
      "outputs": []
    },
    {
      "cell_type": "markdown",
      "source": [
        "In this example, the outer dictionary employees maps department names (e.g., \"department1\") to inner dictionaries containing employee details. Each inner dictionary contains the employee's name, title, and salary. This structure allows you to easily organize and access data related to multiple departments and employees."
      ],
      "metadata": {
        "id": "Q6BnlKj92_TX"
      }
    },
    {
      "cell_type": "markdown",
      "source": [
        "17. Describe the time complexity of accessing elements in a dictionary.\n",
        " - Accessing an element in a dictionary typically takes O(1) (constant time) on average. This means the time it takes to retrieve a value using its key doesn't increase significantly as the dictionary size grows. However, in the worst-case scenario, where numerous collisions occur (meaning different keys map to the same hash value), the time complexity can degrade to O(n) (linear time).\n",
        "\n",
        "Here's a more detailed explanation:\n",
        "\n",
        "Average Case (O(1)):\n",
        "Dictionaries are often implemented using hash tables, which allow for near-instantaneous lookup of values based on their keys. The hash function converts the key into an index within the hash table, allowing direct access to the corresponding value.\n",
        "\n",
        "Worst Case (O(n)):\n",
        "If a hash function is poorly designed or if many keys hash to the same index (collisions), the dictionary might need to search sequentially through the elements at that index, leading to a linear time complexity. This scenario is relatively rare in well-designed dictionaries.\n"
      ],
      "metadata": {
        "id": "VNm5M3A33ErD"
      }
    },
    {
      "cell_type": "markdown",
      "source": [
        "18.  In what situations are lists preferred over dictionaries?\n",
        " - For quick data look-ups, configurations, or caches, favor dictionaries. For ordered collections and sequence operations, such as maintaining a stack or queue, lists are more suitable."
      ],
      "metadata": {
        "id": "kQ05poZ94U8h"
      }
    },
    {
      "cell_type": "markdown",
      "source": [
        "19.  Why are dictionaries considered unordered, and how does that affect data retrieval?\n",
        " - For quick data look-ups, configurations, or caches, favor dictionaries. For ordered collections and sequence operations, such as maintaining a stack or queue, lists are more suitable."
      ],
      "metadata": {
        "id": "fHti7NAn4xqT"
      }
    },
    {
      "cell_type": "markdown",
      "source": [
        "20. Explain the difference between a list and a dictionary in terms of data retrieval.\n",
        " - In terms of data retrieval, a dictionary offers significantly faster lookup of values based on unique keys compared to a list, which relies on numerical indices. Dictionaries, using a hash table, can find values associated with a key in an average of O(1) (constant) time, while lists, requiring sequential searching, have an average time complexity of O(n) (linear).\n",
        "\n",
        "Lists:\n",
        "\n",
        "Ordered:\n",
        "\n",
        "Elements are stored and accessed based on their position (index) in the sequence, starting from 0.\n",
        "\n",
        "Indexing:\n",
        "\n",
        "Elements are accessed using numerical indices (e.g., my_list to get the third element).\n",
        "\n",
        "Lookup Speed:\n",
        "\n",
        "Finding a specific element in a list requires iterating through it until the element is found, resulting in a potentially slow lookup, especially for large lists.\n",
        "\n",
        "Example:\n",
        "\n",
        "my_list = - To get 30, you'd use my_list.\n",
        "\n",
        "Dictionaries:\n",
        "\n",
        "Unordered:\n",
        "\n",
        "Elements are stored as key-value pairs, and the order of insertion is not guaranteed.\n",
        "\n",
        "Keys:\n",
        "\n",
        "Elements are accessed using unique keys, not indices. These keys can be of various data types.\n",
        "\n",
        "Lookup Speed:\n",
        "\n",
        "Dictionaries use a hash table to store key-value pairs, allowing for extremely fast lookups based on keys. The lookup time is typically O(1) on average.\n",
        "\n",
        "Example:\n",
        "\n",
        "my_dict = {\"name\": \"Alice\", \"age\": 30, \"city\": \"London\"} - To get \"Alice\", you'd use my_dict[\"name\"]."
      ],
      "metadata": {
        "id": "IpHq3qaG5N3m"
      }
    },
    {
      "cell_type": "markdown",
      "source": [
        "# Practical Questions"
      ],
      "metadata": {
        "id": "ikRA7DSp7Jbr"
      }
    },
    {
      "cell_type": "markdown",
      "source": [
        "1. Write a code to create a string with your name and print it.\n",
        " - Printing your own name means displaying your name on the computer screen.\n",
        "\n",
        "Examples\n",
        "\n",
        "Input: name = “Ejaz”\n",
        "Output: Ejaz\n",
        "Explanation: The program prints “Ejaz” to the screen.\n",
        "\n",
        "\n",
        "Input: name = “Ejaz”\n",
        "Output: Ejaz\n",
        "Explanation: The program prints “Ejaz” to the screen"
      ],
      "metadata": {
        "id": "wu6JXTPy7QHe"
      }
    },
    {
      "cell_type": "code",
      "source": [
        "a = input(\"Ejaz: \")\n",
        "print(a)"
      ],
      "metadata": {
        "id": "VXgn9aoG8VXM"
      },
      "execution_count": null,
      "outputs": []
    },
    {
      "cell_type": "markdown",
      "source": [
        "Output\n",
        "\n",
        "Enter your name: Ejaz"
      ],
      "metadata": {
        "id": "SHWOJdhG9iKV"
      }
    },
    {
      "cell_type": "markdown",
      "source": [
        "2. Write a code to find the length of the string \"Hello World\"."
      ],
      "metadata": {
        "id": "DbnzKRqx-KUr"
      }
    },
    {
      "cell_type": "code",
      "source": [
        "def get_string_length(string):\n",
        "    \"\"\"\n",
        "    Calculates the length of a given string.\n",
        "\n",
        "    Args:\n",
        "        string: The input string.\n",
        "\n",
        "    Returns:\n",
        "        The length of the string as an integer.\n",
        "    \"\"\"\n",
        "    return len(string)\n",
        "\n",
        "# Example Usage\n",
        "input_string = \"hello world\"\n",
        "string_length = get_string_length(input_string)\n",
        "print(f\"The length of '{input_string}' is: {string_length}\")"
      ],
      "metadata": {
        "id": "Qq9YN3vx-oq9"
      },
      "execution_count": null,
      "outputs": []
    },
    {
      "cell_type": "markdown",
      "source": [
        "3. Write a code to slice the first 3 characters from the string \"Python Programming\".\n",
        " - To slice the first 3 characters from the string \"Python Programming\" in Python, you can use string slicing with the syntax [start:end]. In this case, you want to start at the beginning of the string (index 0) and end before index 3."
      ],
      "metadata": {
        "id": "xCMa6AMG-414"
      }
    },
    {
      "cell_type": "code",
      "source": [
        "string = \"Python Programming\"\n",
        "sliced_string = string[0:3]\n",
        "print(sliced_string)"
      ],
      "metadata": {
        "id": "ZjUGP74s_hzI"
      },
      "execution_count": null,
      "outputs": []
    },
    {
      "cell_type": "markdown",
      "source": [
        "Output:"
      ],
      "metadata": {
        "id": "wv8v4-YK_wJd"
      }
    },
    {
      "cell_type": "code",
      "source": [
        "Pyt"
      ],
      "metadata": {
        "id": "6PWiN9CT_zJg"
      },
      "execution_count": null,
      "outputs": []
    },
    {
      "cell_type": "markdown",
      "source": [
        "4. Write a code to convert the string \"hello\" to uppercase.\n",
        " - The following code snippet demonstrates how to convert the string \"hello\" to uppercase in Python:"
      ],
      "metadata": {
        "id": "8UUw3KDl_3RX"
      }
    },
    {
      "cell_type": "code",
      "source": [
        "string = \"hello\"\n",
        "uppercase_string = string.upper()\n",
        "print(uppercase_string) # Output: HELLO"
      ],
      "metadata": {
        "id": "dqpFxw9BGWFJ"
      },
      "execution_count": null,
      "outputs": []
    },
    {
      "cell_type": "markdown",
      "source": [
        "The upper() method is a built-in string method in Python that returns a copy of the string converted to uppercase. It does not modify the original string."
      ],
      "metadata": {
        "id": "0p9q_MYAGm3W"
      }
    },
    {
      "cell_type": "markdown",
      "source": [
        "5. Write a code to replace the word \"apple\" with \"orange\" in the string \"I like apple\".\n",
        " - a = [\"I like apple\",\"I love you so much\"]\n",
        "I want to change \"apple\" and \"love\" words with followings : \"orange\",\"like\" but I don't want to change the elements ( sentences) in a so output must be\n",
        "\n",
        "a= [\"I like orange\",\"I like you so much\"]\n",
        "\n",
        "No changes should happen in anything except words orange and like. Not even a space added or dropped."
      ],
      "metadata": {
        "id": "E5JYyJOMGzUQ"
      }
    },
    {
      "cell_type": "markdown",
      "source": [
        "6. Write a code to create a list with numbers 1 to 5 and print it.\n",
        " - The task of creating a list of numbers within a given range involves generating a sequence of integers that starts from a specified starting point and ends just before a given endpoint. For example, if the range is from 0 to 10, the resulting list would contain the numbers 0, 1, 2, 3, 4, 5, 6, 7, 8 and 9.\n",
        "\n",
        "Using range()\n",
        "range() generates an iterator that produces numbers within a specified range. It is highly efficient as it doesn’t create the entire list upfront, making it memory-friendly. Converting the iterator to a list gives us the full range of numbers."
      ],
      "metadata": {
        "id": "1Q2Evc29IM0n"
      }
    },
    {
      "cell_type": "code",
      "source": [
        "r1 = 0\n",
        "r2 = 10\n",
        "\n",
        "li = list(range(r1,r2))\n",
        "print(li)"
      ],
      "metadata": {
        "id": "CS6UR0rfJC6H"
      },
      "execution_count": null,
      "outputs": []
    },
    {
      "cell_type": "markdown",
      "source": [
        "Output\n",
        "[0, 1, 2, 3, 4, 5, 6, 7, 8, 9]\n",
        "Explanation: list(range(r1, r2)) creates a sequence of numbers from r1 to r2 using range() and converts it into a list li with list()."
      ],
      "metadata": {
        "id": "qMHqezvqJD_l"
      }
    },
    {
      "cell_type": "markdown",
      "source": [
        "7. Write a code to append the number 10 to the list [1, 2, 3, 4]."
      ],
      "metadata": {
        "id": "Pp3xIx-BJP5H"
      }
    },
    {
      "cell_type": "code",
      "source": [
        "my_list = [1, 2, 3, 4]\n",
        "my_list.append(10)\n",
        "print(my_list)"
      ],
      "metadata": {
        "id": "oYpqUfgTJjFk"
      },
      "execution_count": null,
      "outputs": []
    },
    {
      "cell_type": "code",
      "source": [
        "[1, 2, 3, 4, 10]"
      ],
      "metadata": {
        "id": "flUNmkZhJkLw"
      },
      "execution_count": null,
      "outputs": []
    },
    {
      "cell_type": "markdown",
      "source": [
        "8. Write a code to remove the number 3 from the list [1, 2, 3, 4, 5].\n",
        " - The pop() is also a method of listing. We can remove the element at the specified index and get the value of that element using pop(). Here, we first find the index position of 9, and then we will pass the index to pop() function."
      ],
      "metadata": {
        "id": "BzCtall5JoQh"
      }
    },
    {
      "cell_type": "code",
      "source": [
        "# Python program to remove given element from the list\n",
        "list1 = [1, 9, 8, 4, 9, 2, 9]\n",
        "\n",
        "# Printing initial list\n",
        "print (\"original list : \"+ str(list1))\n",
        "\n",
        "remove = 9\n",
        "\n",
        "# using pop()\n",
        "# to remove list element 9\n",
        "if remove in list1:\n",
        "# get index of 9 and pop it out\n",
        "\tlist1.pop(list1.index(remove))\n",
        "\n",
        "# Printing list after removal\n",
        "print (\"List after element removal is : \" + str(list1))\n"
      ],
      "metadata": {
        "id": "oc8HYXgtKCt9"
      },
      "execution_count": null,
      "outputs": []
    },
    {
      "cell_type": "markdown",
      "source": [
        "9. Write a code to access the second element in the list ['a', 'b', 'c', 'd']."
      ],
      "metadata": {
        "id": "y1NCHbNnKFYj"
      }
    },
    {
      "cell_type": "code",
      "source": [
        "my_list = ['a', 'b', 'c', 'd']\n",
        "second_element = my_list[1]\n",
        "print(second_element)"
      ],
      "metadata": {
        "id": "cctaLGu1KVp8"
      },
      "execution_count": null,
      "outputs": []
    },
    {
      "cell_type": "markdown",
      "source": [
        "Explanation:\n",
        "1. my_list = ['a', 'b', 'c', 'd']:\n",
        "This line creates a list named my_list and initializes it with the elements 'a', 'b', 'c', and 'd'.\n",
        "2. second_element = my_list[1]:\n",
        "This line accesses the element at index 1 of the my_list. Remember that Python lists are zero-indexed, meaning the first element is at index 0, the second at index 1, and so on.\n",
        "3. print(second_element):\n",
        "This line prints the value stored in the second_element variable, which is 'b'."
      ],
      "metadata": {
        "id": "PP6CsmHqKW4e"
      }
    },
    {
      "cell_type": "markdown",
      "source": [
        "10. Write a code to reverse the list [10, 20, 30, 40, 50].\n",
        " - Let’s take an example to reverse a list using reverse() method.\n",
        "\n",
        "The reverse() method reverses the elements of the list in-place and it modify the original list without creating a new list. This method is efficient because it doesn’t create a new list."
      ],
      "metadata": {
        "id": "JyLHjgLCKevg"
      }
    },
    {
      "cell_type": "code",
      "source": [
        "a = [1, 2, 3, 4, 5]\n",
        "\n",
        "# Reverse the list in-place\n",
        "a.reverse()\n",
        "print(a)"
      ],
      "metadata": {
        "id": "g56Q46UOKx0k"
      },
      "execution_count": null,
      "outputs": []
    },
    {
      "cell_type": "markdown",
      "source": [
        "Output\n",
        "[5, 4, 3, 2, 1]"
      ],
      "metadata": {
        "id": "ew2OTdaaKy-u"
      }
    },
    {
      "cell_type": "markdown",
      "source": [
        "11. Write a code to create a tuple with the elements 100, 200, 300 and print it."
      ],
      "metadata": {
        "id": "3H9CvsLUK2RW"
      }
    },
    {
      "cell_type": "code",
      "source": [
        "my_tuple = (100, 200, 300)\n",
        "print(my_tuple)"
      ],
      "metadata": {
        "id": "EJZ0QrK-LLTX"
      },
      "execution_count": null,
      "outputs": []
    },
    {
      "cell_type": "markdown",
      "source": [
        "12.  Write a code to access the second-to-last element of the tuple ('red', 'green', 'blue', 'yellow')."
      ],
      "metadata": {
        "id": "AfRsgxxJLPQA"
      }
    },
    {
      "cell_type": "code",
      "source": [
        "colors = ('red', 'green', 'blue', 'yellow')\n",
        "second_to_last_color = colors[-2]\n",
        "print(second_to_last_color)"
      ],
      "metadata": {
        "id": "ghk7yjTBLaJT"
      },
      "execution_count": null,
      "outputs": []
    },
    {
      "cell_type": "markdown",
      "source": [
        "Explanation:\n",
        "Define the tuple: The code first defines a tuple named colors with the given values.\n",
        "Access the second-to-last element: Python uses negative indexing for tuples. colors[-2] refers to the second-to-last element (which is 'blue' in this case).\n",
        "Print the result: The code then prints the value of second_to_last_color which will be 'blue'."
      ],
      "metadata": {
        "id": "ySLFY26kLbh1"
      }
    },
    {
      "cell_type": "markdown",
      "source": [
        "13. Write a code to find the minimum number in the tuple (10, 20, 5, 15)."
      ],
      "metadata": {
        "id": "cPsS2BlLLkfB"
      }
    },
    {
      "cell_type": "code",
      "source": [
        "my_tuple = (10, 20, 5, 15)\n",
        "min_number = min(my_tuple)\n",
        "print(min_number)"
      ],
      "metadata": {
        "id": "0wjmfbtRLt0p"
      },
      "execution_count": null,
      "outputs": []
    },
    {
      "cell_type": "markdown",
      "source": [
        "This code defines a tuple my_tuple, and then uses the built-in min() function to find the smallest number within it. The result, which is 5, is then printed to the console."
      ],
      "metadata": {
        "id": "4-_Nknw2Lxkp"
      }
    },
    {
      "cell_type": "markdown",
      "source": [
        "14. Write a code to find the index of the element \"cat\" in the tuple ('dog', 'cat', 'rabbit').\n",
        " - The index() method returns the index of the specified element in the list.\n",
        "\n",
        "Example"
      ],
      "metadata": {
        "id": "Zx1WXUWrLy9l"
      }
    },
    {
      "cell_type": "code",
      "source": [
        "animals = ['cat', 'dog', 'rabbit', 'horse']\n",
        "\n",
        "# get the index of 'dog'\n",
        "index = animals.index('dog')\n",
        "\n",
        "print(index)\n",
        "\n",
        "# Output: 1"
      ],
      "metadata": {
        "id": "DoUb4LdIMG4S"
      },
      "execution_count": null,
      "outputs": []
    },
    {
      "cell_type": "markdown",
      "source": [
        "15.  Write a code to create a tuple containing three different fruits and check if \"kiwi\" is in it.\n",
        " - Example Get your own Python Server\n",
        "Print the second item in the tuple:\n",
        "\n",
        "thistuple = (\"apple\", \"banana\", \"cherry\")\n",
        "print(thistuple[1])\n",
        "\n",
        "Note: The first item has index 0.\n",
        "Example\n",
        "Print the last item of the tuple:\n",
        "\n",
        "thistuple = (\"apple\", \"banana\", \"cherry\")\n",
        "print(thistuple[-1])"
      ],
      "metadata": {
        "id": "zMUlOQ7FMZyx"
      }
    },
    {
      "cell_type": "markdown",
      "source": [
        "16. Write a code to create a set with the elements 'a', 'b', 'c' and print it.\n",
        " - Here is the code to create a set with the elements 'a', 'b', and 'c', and then print it:"
      ],
      "metadata": {
        "id": "6f5pW4CgNHeq"
      }
    },
    {
      "cell_type": "code",
      "source": [
        "my_set = {'a', 'b', 'c'}\n",
        "print(my_set)"
      ],
      "metadata": {
        "id": "zpCYrXyONTrA"
      },
      "execution_count": null,
      "outputs": []
    },
    {
      "cell_type": "markdown",
      "source": [
        "17. Write a code to clear all elements from the set {1, 2, 3, 4, 5}."
      ],
      "metadata": {
        "id": "L7pNsIFGNZTJ"
      }
    },
    {
      "cell_type": "code",
      "source": [
        "my_set = {1, 2, 3, 4, 5}\n",
        "my_set.clear()\n",
        "print(my_set)"
      ],
      "metadata": {
        "id": "PIsaGlK5NzHZ"
      },
      "execution_count": null,
      "outputs": []
    },
    {
      "cell_type": "markdown",
      "source": [
        "This code snippet will initialize a set my_set with elements 1, 2, 3, 4, and 5. The my_set.clear() method then removes all elements from the set. Finally, printing the set will display an empty set set()."
      ],
      "metadata": {
        "id": "QfTZUP-6N1ge"
      }
    },
    {
      "cell_type": "markdown",
      "source": [
        "18. Write a code to remove the element 4 from the set {1, 2, 3, 4}."
      ],
      "metadata": {
        "id": "GSXMQI6tN8mS"
      }
    },
    {
      "cell_type": "code",
      "source": [
        "my_set = {1, 2, 3, 4}\n",
        "my_set.remove(4)\n",
        "print(my_set)"
      ],
      "metadata": {
        "id": "erd9ff7_OlqE"
      },
      "execution_count": null,
      "outputs": []
    },
    {
      "cell_type": "markdown",
      "source": [
        "Explanation:\n",
        "\n",
        "Create a set: my_set = {1, 2, 3, 4} initializes a set named my_set with the elements 1, 2, 3, and 4.\n",
        "\n",
        "Remove the element: my_set.remove(4) uses the remove() method to delete the element 4 from the set.\n",
        "\n",
        "Print the modified set: print(my_set) displays the updated set, which now contains only {1, 2, 3}."
      ],
      "metadata": {
        "id": "TAA4SzxyOp1S"
      }
    },
    {
      "cell_type": "markdown",
      "source": [
        "19. Write a code to find the union of two sets {1, 2, 3} and {3, 4, 5}.\n",
        " - Combine the elements of both sets, removing any duplicates.      Step 1 . Combine all elements from both sets into a new set, including duplicates. New set: \\(\\{1,2,3,3,4,5\\}\\) Step 2 . Remove duplicate elements from the combined set. The element \\(3\\) appears twice, so remove one instance. Final set: \\(\\{1,2,3,4,5\\}\\)        Solution             The union of the sets \\(\\{1,2,3\\}\\) and \\(\\{3,4,5\\}\\) is \\(\\{1,2,3,4,5\\}\\)."
      ],
      "metadata": {
        "id": "3Q0H8g2IO1SS"
      }
    },
    {
      "cell_type": "markdown",
      "source": [
        "20. Write a code to find the intersection of two sets {1, 2, 3} and {2, 3, 4}."
      ],
      "metadata": {
        "id": "a8WuZLkoPNIz"
      }
    },
    {
      "cell_type": "code",
      "source": [
        "def set_intersection(set1, set2):\n",
        "  \"\"\"\n",
        "  Finds the intersection of two sets.\n",
        "\n",
        "  Args:\n",
        "    set1: The first set.\n",
        "    set2: The second set.\n",
        "\n",
        "  Returns:\n",
        "    A new set containing the elements common to both input sets.\n",
        "  \"\"\"\n",
        "  return set1.intersection(set2)\n",
        "\n",
        "# Example Usage:\n",
        "set1 = {1, 2, 3}\n",
        "set2 = {2, 3, 4}\n",
        "intersection = set_intersection(set1, set2)\n",
        "print(intersection)  # Output: {2, 3}"
      ],
      "metadata": {
        "id": "o8Bm1j5oPVtl"
      },
      "execution_count": null,
      "outputs": []
    },
    {
      "cell_type": "markdown",
      "source": [
        "21. Write a code to create a dictionary with the keys \"name\", \"age\", and \"city\", and print it.\n",
        " - Dictionary Keys in Python.\n",
        "\n",
        "Using keys() Method\n",
        "Iterating Through Dictionary\n",
        "Using List Comprehension\n",
        "Using keys() Method\n",
        "This method uses the keys() function to get a view object of the dictionary’s keys and then converts it into a list.\n",
        "\n",
        "\n",
        "\n",
        "\n"
      ],
      "metadata": {
        "id": "cQ2P8-CPPWyu"
      }
    },
    {
      "cell_type": "code",
      "source": [
        "d = {'name': 'John', 'age': 25, 'city': 'New York'}\n",
        "\n",
        "a = list(d.keys())\n",
        "\n",
        "print(a)"
      ],
      "metadata": {
        "id": "9iqXbSvf5HkB"
      },
      "execution_count": null,
      "outputs": []
    },
    {
      "cell_type": "markdown",
      "source": [
        "Output\n",
        "['name', 'age', 'city']\n",
        "Explanation: The keys() method returns a view object that displays a list of all the keys in the dictionary. Using list() converts the view object into a list, which is then printed"
      ],
      "metadata": {
        "id": "HnYwP-9M6CFn"
      }
    },
    {
      "cell_type": "markdown",
      "source": [
        "22. Write a code to add a new key-value pair \"country\": \"USA\" to the dictionary {'name': 'John', 'age': 25}."
      ],
      "metadata": {
        "id": "-WSs3HMB6NLp"
      }
    },
    {
      "cell_type": "code",
      "source": [
        "my_dict = {'name': 'John', 'age': 25}\n",
        "my_dict['country'] = 'USA'\n",
        "print(my_dict)"
      ],
      "metadata": {
        "id": "9Sl8kyDX76TR"
      },
      "execution_count": null,
      "outputs": []
    },
    {
      "cell_type": "markdown",
      "source": [
        "Output: {'name': 'John', 'age': 25, 'country': 'USA'}\n",
        "\n",
        "Alternatively, you could also use the update() method:"
      ],
      "metadata": {
        "id": "WKitNVJ0784P"
      }
    },
    {
      "cell_type": "code",
      "source": [
        "my_dict = {'name': 'John', 'age': 25}\n",
        "my_dict.update({'country': 'USA'})\n",
        "print(my_dict)"
      ],
      "metadata": {
        "id": "zZ3HoM1l8AAm"
      },
      "execution_count": null,
      "outputs": []
    },
    {
      "cell_type": "markdown",
      "source": [
        "Both methods will produce the same result."
      ],
      "metadata": {
        "id": "2v6QkmHf8GiX"
      }
    },
    {
      "cell_type": "markdown",
      "source": [
        "23. Write a code to access the value associated with the key \"name\" in the dictionary {'name': 'Alice', 'age': 30}."
      ],
      "metadata": {
        "id": "_P22etzI7PyL"
      }
    },
    {
      "cell_type": "code",
      "source": [
        "my_dict = {'name': 'Alice', 'age': 30}\n",
        "name_value = my_dict['name']\n",
        "print(name_value)  # Output: Alice"
      ],
      "metadata": {
        "id": "y6SWgPT77hMN"
      },
      "execution_count": null,
      "outputs": []
    },
    {
      "cell_type": "markdown",
      "source": [
        "24. Write a code to remove the key \"age\" from the dictionary {'name': 'Bob', 'age': 22, 'city': 'New York'}."
      ],
      "metadata": {
        "id": "lZXeWp7q8Kij"
      }
    },
    {
      "cell_type": "code",
      "source": [
        "my_dict = {'name': 'Bob', 'age': 22, 'city': 'New York'}\n",
        "del my_dict['age']\n",
        "print(my_dict)"
      ],
      "metadata": {
        "id": "Ces6YhBZ8UM-"
      },
      "execution_count": null,
      "outputs": []
    },
    {
      "cell_type": "markdown",
      "source": [
        "Output: {'name': 'Bob', 'city': 'New York'}"
      ],
      "metadata": {
        "id": "n4oQd8-F8VJF"
      }
    },
    {
      "cell_type": "markdown",
      "source": [
        "25. Write a code to check if the key \"city\" exists in the dictionary {'name': 'Alice', 'city': 'Paris'}."
      ],
      "metadata": {
        "id": "VAzQ8dD_8aaC"
      }
    },
    {
      "cell_type": "code",
      "source": [
        "my_dict = {'name': 'Alice', 'city': 'Paris'}\n",
        "if 'city' in my_dict:\n",
        "    print(\"Key 'city' exists\")\n",
        "else:\n",
        "    print(\"Key 'city' does not exist\")"
      ],
      "metadata": {
        "id": "W5Ufz52l8-NX"
      },
      "execution_count": null,
      "outputs": []
    },
    {
      "cell_type": "markdown",
      "source": [
        "26.  Write a code to create a list, a tuple, and a dictionary, and print them all.\n",
        " - Using dict()\n",
        "dict() function converts an iterable of key-value pairs, such as a list of tuples, into a dictionary. It assigns the first element of each tuple as the key and the second as the corresponding value."
      ],
      "metadata": {
        "id": "hpctJwfc9BZI"
      }
    },
    {
      "cell_type": "code",
      "source": [
        "a = [(\"a\", 1), (\"b\", 2), (\"c\", 3)]\n",
        "\n",
        "res = dict(a)\n",
        "\n",
        "print(res)"
      ],
      "metadata": {
        "id": "jkfHmfWk9T8J"
      },
      "execution_count": null,
      "outputs": []
    },
    {
      "cell_type": "markdown",
      "source": [
        "27. Write a code to create a list of 5 random numbers between 1 and 100, sort it in ascending order, and print the\n",
        "result.(replaced)"
      ],
      "metadata": {
        "id": "wLM3dbsK9Wpd"
      }
    },
    {
      "cell_type": "code",
      "source": [
        "import random\n",
        "\n",
        "# Generate list of 5 random numbers between 1 and 100\n",
        "numbers = [random.randint(1, 100) for _ in range(5)]\n",
        "\n",
        "# Sort in ascending order\n",
        "numbers.sort()\n",
        "\n",
        "# Print result\n",
        "print(numbers)"
      ],
      "metadata": {
        "id": "ygff-lQ69leL"
      },
      "execution_count": null,
      "outputs": []
    },
    {
      "cell_type": "markdown",
      "source": [
        "This code:\n",
        "\n",
        "Imports the random module\n",
        "Creates a list of 5 random integers using list comprehension\n",
        "Sorts the list in ascending order using sort()\n",
        "Prints the sorted list\n",
        "Each run will produce a different list, e.g., [12, 34, 56, 78, 89]"
      ],
      "metadata": {
        "id": "6YlqkXjH9oT_"
      }
    },
    {
      "cell_type": "markdown",
      "source": [
        "28. Write a code to create a list with strings and print the element at the third index.\n",
        " - Here's a Python code to create a list with strings and print the element at the third index:"
      ],
      "metadata": {
        "id": "3OsB-YQl9tzv"
      }
    },
    {
      "cell_type": "code",
      "source": [
        "# Create a list with strings\n",
        "my_list = [\"apple\", \"banana\", \"cherry\", \"date\", \"elderberry\"]\n",
        "\n",
        "# Print the element at the third index\n",
        "print(my_list[3])"
      ],
      "metadata": {
        "id": "PL_wr5rx9_BA"
      },
      "execution_count": null,
      "outputs": []
    },
    {
      "cell_type": "markdown",
      "source": [
        "Output: date\n",
        "\n",
        "Note: In Python, list indexing starts at 0, so the third index is 3."
      ],
      "metadata": {
        "id": "0GEsPJ3Z-A7h"
      }
    },
    {
      "cell_type": "markdown",
      "source": [
        "29. Write a code to combine two dictionaries into one and print the result.\n",
        " - Here's a Python code to combine two dictionaries:"
      ],
      "metadata": {
        "id": "AdA3w7Wz-ESy"
      }
    },
    {
      "cell_type": "code",
      "source": [
        "# Define two dictionaries\n",
        "dict1 = {'a': 1, 'b': 2}\n",
        "dict2 = {'c': 3, 'd': 4}\n",
        "\n",
        "# Combine dictionaries using the | operator (Python 3.9+)\n",
        "combined_dict = dict1 | dict2\n",
        "\n",
        "# Print the result\n",
        "print(combined_dict)"
      ],
      "metadata": {
        "id": "Em-SH2e5-SWs"
      },
      "execution_count": null,
      "outputs": []
    },
    {
      "cell_type": "markdown",
      "source": [
        "Output:"
      ],
      "metadata": {
        "id": "fu07xjbB-XZ_"
      }
    },
    {
      "cell_type": "code",
      "source": [
        "{'a': 1, 'b': 2, 'c': 3, 'd': 4}"
      ],
      "metadata": {
        "id": "JNWDPCkC-Yaj"
      },
      "execution_count": null,
      "outputs": []
    },
    {
      "cell_type": "markdown",
      "source": [
        "Alternative method using update():"
      ],
      "metadata": {
        "id": "i5ZiMnJx-af9"
      }
    },
    {
      "cell_type": "code",
      "source": [
        "dict1 = {'a': 1, 'b': 2}\n",
        "dict2 = {'c': 3, 'd': 4}\n",
        "\n",
        "combined_dict = dict1.copy()  # Create a copy to avoid modifying dict1\n",
        "combined_dict.update(dict2)\n",
        "\n",
        "print(combined_dict)"
      ],
      "metadata": {
        "id": "PHm7LM0o-f_K"
      },
      "execution_count": null,
      "outputs": []
    },
    {
      "cell_type": "markdown",
      "source": [
        "Both methods work. The | operator is more concise, but update() works in all Python versions. If there are duplicate keys, the values from the second dictionary will overwrite the first dictionary's values."
      ],
      "metadata": {
        "id": "JOQonY7H-i-t"
      }
    },
    {
      "cell_type": "markdown",
      "source": [
        "30.  Write a code to convert a list of strings into a set.\n",
        " - Here's a Python code to convert a list of strings into a set:"
      ],
      "metadata": {
        "id": "XWXrO2AF-meP"
      }
    },
    {
      "cell_type": "code",
      "source": [
        "# List of strings\n",
        "string_list = [\"apple\", \"banana\", \"orange\", \"apple\", \"grape\"]\n",
        "\n",
        "# Convert list to set\n",
        "string_set = set(string_list)\n",
        "\n",
        "# Print results\n",
        "print(\"Original list:\", string_list)\n",
        "print(\"Converted set:\", string_set)"
      ],
      "metadata": {
        "id": "4TXjfMIH-wbB"
      },
      "execution_count": null,
      "outputs": []
    },
    {
      "cell_type": "markdown",
      "source": [
        "This code:\n",
        "\n",
        "Creates a list of strings (string_list)\n",
        "Uses the set() function to convert the list to a set (string_set)\n",
        "Prints both the original list and the resulting set\n",
        "Note: Sets automatically remove duplicates, so any repeated strings (like \"apple\" in the example) will appear only once in the set."
      ],
      "metadata": {
        "id": "wgH6GabG-264"
      }
    }
  ]
}